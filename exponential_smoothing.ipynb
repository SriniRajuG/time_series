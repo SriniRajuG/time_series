{
 "cells": [
  {
   "cell_type": "code",
   "execution_count": 1,
   "metadata": {},
   "outputs": [],
   "source": [
    "import sys, os\n",
    "import pandas as pd\n",
    "import numpy as np\n",
    "from statsmodels.tsa.base import tsa_model as tsa\n",
    "from statsmodels.tsa import holtwinters as hw\n",
    "sys.path.insert(0, \"/home/osboxes/zementis/pmml\")\n",
    "from nyoka.pmml.PMML43Ext import *\n",
    "from nyoka.pmml.statsmodels import exponential_smoothing as es"
   ]
  },
  {
   "cell_type": "code",
   "execution_count": 2,
   "metadata": {},
   "outputs": [],
   "source": [
    "def import_data(trend=False, seasonality=False):\n",
    "    \"\"\"\n",
    "    Returns a dataframe with time series values.\n",
    "    :param trend: boolean\n",
    "        If True, returns data with trend\n",
    "    :param seasonality: boolean\n",
    "        If True, returns data with seasonality\n",
    "    :return: ts_data: DataFrame\n",
    "        Index of the data frame is either a time-index or an integer index. First column has time series values\n",
    "    \"\"\"\n",
    "    if trend and seasonality:\n",
    "        # no of international visitors in Australia\n",
    "        data = [41.7275, 24.0418, 32.3281, 37.3287, 46.2132, 29.3463, 36.4829, 42.9777, 48.9015, 31.1802, 37.7179,\n",
    "                40.4202, 51.2069, 31.8872, 40.9783, 43.7725, 55.5586, 33.8509, 42.0764, 45.6423, 59.7668, 35.1919,\n",
    "                44.3197, 47.9137]\n",
    "        index = pd.DatetimeIndex(start='2005', end='2010-Q4', freq='QS')\n",
    "        ts_data = pd.Series(data, index)\n",
    "        ts_data.index.name = 'datetime_index'\n",
    "        ts_data.name = 'n_visitors'\n",
    "        return ts_data\n",
    "    elif trend:\n",
    "        # no. of annual passengers of air carriers registered in Australia\n",
    "        data = [17.5534, 21.86, 23.8866, 26.9293, 26.8885, 28.8314, 30.0751, 30.9535, 30.1857, 31.5797, 32.5776,\n",
    "                33.4774, 39.0216, 41.3864, 41.5966]\n",
    "        index = pd.DatetimeIndex(start='1990', end='2005', freq='A')\n",
    "        ts_data = pd.Series(data, index)\n",
    "        ts_data.index.name = 'datetime_index'\n",
    "        ts_data.name = 'n_passengers'\n",
    "        return ts_data\n",
    "    elif seasonality:\n",
    "        pass\n",
    "    else:\n",
    "        # Oil production in Saudi Arabia\n",
    "        data = [446.6565, 454.4733, 455.663, 423.6322, 456.2713, 440.5881, 425.3325, 485.1494, 506.0482, 526.792,\n",
    "                514.2689, 494.211]\n",
    "        index = pd.DatetimeIndex(start='1996', end='2008', freq='A')\n",
    "        ts_data = pd.Series(data, index)\n",
    "        ts_data.index.name = 'datetime_index'\n",
    "        ts_data.name = 'oil_production'\n",
    "        return ts_data"
   ]
  },
  {
   "cell_type": "code",
   "execution_count": 3,
   "metadata": {},
   "outputs": [],
   "source": [
    "def reconstruct_expon_smooth(pmml_file_name):\n",
    "    \"\"\"\n",
    "    Parses a pmml file and extracts the parameters and time series data. Uses Statsmodels to instantiate a model object\n",
    "    of exponential smoothing. Returns parameters and model-object\n",
    "    :param pmml_file_name:\n",
    "    :return: params: dictionary\n",
    "        Parameters of the model as key-value pairs\n",
    "    :return: stsmdl: model object from Statsmodels\n",
    "        This model object is created using the parameters and time-series data extracted from the pmml file\n",
    "    \"\"\"\n",
    "\n",
    "    def get_ts_data_from_pmml(ts_model_obj):\n",
    "        time_series_obj = ts_model_obj.get_TimeSeries()[0]\n",
    "        time_values = time_series_obj.get_TimeValue()\n",
    "        index = list()\n",
    "        ts_values = list()\n",
    "        for time_value in time_values:\n",
    "            index.append(time_value.get_index())\n",
    "            ts_values.append(time_value.get_value())\n",
    "        ts_data = pd.Series(data=ts_values, index=index)\n",
    "        return ts_data\n",
    "\n",
    "    def get_params_model_from_pmml(ts_data, ts_model_obj):\n",
    "        params = dict()\n",
    "        exp_smooth_obj = ts_model_obj.get_ExponentialSmoothing()\n",
    "        level_obj = exp_smooth_obj.get_Level()\n",
    "        trend_obj = exp_smooth_obj.get_Trend_ExpoSmooth()\n",
    "        season_obj = exp_smooth_obj.get_Seasonality_ExpoSmooth()\n",
    "        params['smoothing_level'] = level_obj.get_alpha()\n",
    "        if trend_obj:\n",
    "            params['smoothing_slope'] = trend_obj.get_gamma()\n",
    "            params['damping_slope'] = trend_obj.get_phi()\n",
    "            trend_type = trend_obj.get_trend()\n",
    "            if trend_type == 'additive':\n",
    "                trend = 'add'\n",
    "                damped = False\n",
    "            elif trend_type == 'multiplicative':\n",
    "                trend = 'mul'\n",
    "                damped = False\n",
    "            elif trend_type == 'damped_additive':\n",
    "                trend = 'add'\n",
    "                damped = True\n",
    "            elif trend_type == 'damped_multiplicative':\n",
    "                trend = 'mul'\n",
    "                damped = True\n",
    "            elif trend_type == 'polynomial_exponential':\n",
    "                pass\n",
    "        else:\n",
    "            trend = None\n",
    "            damped = False\n",
    "        if season_obj:\n",
    "            params['smoothing_seasonal'] = season_obj.get_delta()\n",
    "            seasonal_periods = season_obj.get_Array().get_n()\n",
    "            params['initial_seasons'] = np.array(season_obj.get_Array().get_valueOf_().strip().split(' '))\n",
    "            season_type = season_obj.get_type()\n",
    "            if season_type == 'additive':\n",
    "                seasonal = 'add'\n",
    "            elif season_type == 'multiplicative':\n",
    "                seasonal = 'mul'\n",
    "        else:\n",
    "            seasonal = None\n",
    "            seasonal_periods = None\n",
    "        if ts_model_obj.get_Extension():  # if Extension elements exist in pmml file\n",
    "            for extension in ts_model_obj.get_Extension():\n",
    "                if extension.get_name() == 'initialLevel':\n",
    "                    params['initial_level'] = extension.get_value()\n",
    "                if extension.get_name() == 'initialTrend':\n",
    "                    params['initial_slope'] = extension.get_value()\n",
    "        stsmdl = hw.ExponentialSmoothing(ts_data, trend=trend, seasonal=seasonal, seasonal_periods=seasonal_periods,\n",
    "                                         damped=damped)\n",
    "        return params, stsmdl\n",
    "\n",
    "    nyoka_pmml = parse(pmml_file_name, silence=False)\n",
    "    ts_model_obj = nyoka_pmml.TimeSeriesModel[0]\n",
    "    ts_data = get_ts_data_from_pmml(ts_model_obj)\n",
    "    params, stsmdl = get_params_model_from_pmml(ts_data, ts_model_obj)\n",
    "    return params, stsmdl"
   ]
  },
  {
   "cell_type": "markdown",
   "metadata": {},
   "source": [
    "# Simple Exponential Smoothing\n",
    "# No Trend No Seasonality"
   ]
  },
  {
   "cell_type": "code",
   "execution_count": 4,
   "metadata": {},
   "outputs": [],
   "source": [
    "ts_data = import_data(trend=False, seasonality=False)"
   ]
  },
  {
   "cell_type": "code",
   "execution_count": 5,
   "metadata": {},
   "outputs": [],
   "source": [
    "# trend: {add, mul, None}\n",
    "# seasonal: {add, mul, None}\n",
    "# damped: {True, False}\n",
    "# seasonal_periods: {int, None}\n",
    "model_obj = hw.ExponentialSmoothing(ts_data, \n",
    "                                    trend=None, \n",
    "                                    damped=False, \n",
    "                                    seasonal=None, \n",
    "                                    seasonal_periods=None)\n",
    "results_obj = model_obj.fit(optimized=True)"
   ]
  },
  {
   "cell_type": "code",
   "execution_count": 8,
   "metadata": {},
   "outputs": [],
   "source": [
    "pmml_file_name = 'exponential_smoothing.pmml'\n",
    "es.ExponentialSmoothingToPMML(ts_data, model_obj, results_obj, pmml_file_name);"
   ]
  },
  {
   "cell_type": "code",
   "execution_count": 9,
   "metadata": {},
   "outputs": [],
   "source": [
    "%%capture\n",
    "params_recon, model_obj_recon = reconstruct_expon_smooth(pmml_file_name);"
   ]
  },
  {
   "cell_type": "code",
   "execution_count": 10,
   "metadata": {},
   "outputs": [],
   "source": [
    "pred_val = model_obj.predict(results_obj.params)\n",
    "pred_val_recon = model_obj_recon.predict(params_recon)"
   ]
  },
  {
   "cell_type": "code",
   "execution_count": 11,
   "metadata": {},
   "outputs": [
    {
     "name": "stdout",
     "output_type": "stream",
     "text": [
      "reconstruction successful\n"
     ]
    }
   ],
   "source": [
    "if np.allclose(pred_val, pred_val_recon):\n",
    "    print('reconstruction successful')\n",
    "else:\n",
    "    print('reconstruction error')"
   ]
  },
  {
   "cell_type": "markdown",
   "metadata": {},
   "source": [
    "# Holt's Exponential Smoothing (only trend, no seasonality)"
   ]
  },
  {
   "cell_type": "code",
   "execution_count": 12,
   "metadata": {},
   "outputs": [],
   "source": [
    "ts_data = import_data(trend=True, seasonality=False)"
   ]
  },
  {
   "cell_type": "markdown",
   "metadata": {},
   "source": [
    "** Additive trend. No damping **"
   ]
  },
  {
   "cell_type": "code",
   "execution_count": 13,
   "metadata": {},
   "outputs": [],
   "source": [
    "model_obj = hw.ExponentialSmoothing(ts_data, \n",
    "                                    trend='add', \n",
    "                                    damped=False, \n",
    "                                    seasonal=None, \n",
    "                                    seasonal_periods=None)\n",
    "results_obj = model_obj.fit(optimized=True)"
   ]
  },
  {
   "cell_type": "code",
   "execution_count": 14,
   "metadata": {},
   "outputs": [],
   "source": [
    "pmml_file_name = 'exponential_smoothing.pmml'\n",
    "es.ExponentialSmoothingToPMML(ts_data, model_obj, results_obj, pmml_file_name);"
   ]
  },
  {
   "cell_type": "code",
   "execution_count": 15,
   "metadata": {},
   "outputs": [],
   "source": [
    "%%capture\n",
    "params_recon, model_obj_recon = reconstruct_expon_smooth(pmml_file_name);"
   ]
  },
  {
   "cell_type": "code",
   "execution_count": 16,
   "metadata": {},
   "outputs": [],
   "source": [
    "pred_val = model_obj.predict(results_obj.params)\n",
    "pred_val_recon = model_obj_recon.predict(params_recon)"
   ]
  },
  {
   "cell_type": "code",
   "execution_count": 17,
   "metadata": {},
   "outputs": [
    {
     "name": "stdout",
     "output_type": "stream",
     "text": [
      "reconstruction successful\n"
     ]
    }
   ],
   "source": [
    "if np.allclose(pred_val, pred_val_recon):\n",
    "    print('reconstruction successful')\n",
    "else:\n",
    "    print('reconstruction error')"
   ]
  },
  {
   "cell_type": "markdown",
   "metadata": {},
   "source": [
    "** Addditve trend with damping**"
   ]
  },
  {
   "cell_type": "code",
   "execution_count": 18,
   "metadata": {},
   "outputs": [],
   "source": [
    "model_obj = hw.ExponentialSmoothing(ts_data, \n",
    "                                    trend='add', \n",
    "                                    damped=True, \n",
    "                                    seasonal=None, \n",
    "                                    seasonal_periods=None)\n",
    "results_obj = model_obj.fit(optimized=True)"
   ]
  },
  {
   "cell_type": "code",
   "execution_count": 19,
   "metadata": {},
   "outputs": [],
   "source": [
    "pmml_file_name = 'exponential_smoothing.pmml'\n",
    "es.ExponentialSmoothingToPMML(ts_data, model_obj, results_obj, pmml_file_name);"
   ]
  },
  {
   "cell_type": "code",
   "execution_count": 20,
   "metadata": {},
   "outputs": [],
   "source": [
    "%%capture\n",
    "params_recon, model_obj_recon = reconstruct_expon_smooth(pmml_file_name);"
   ]
  },
  {
   "cell_type": "code",
   "execution_count": 21,
   "metadata": {},
   "outputs": [],
   "source": [
    "pred_val = model_obj.predict(results_obj.params)\n",
    "pred_val_recon = model_obj_recon.predict(params_recon)"
   ]
  },
  {
   "cell_type": "code",
   "execution_count": 22,
   "metadata": {},
   "outputs": [
    {
     "name": "stdout",
     "output_type": "stream",
     "text": [
      "reconstruction successful\n"
     ]
    }
   ],
   "source": [
    "if np.allclose(pred_val, pred_val_recon):\n",
    "    print('reconstruction successful')\n",
    "else:\n",
    "    print('reconstruction error')"
   ]
  },
  {
   "cell_type": "markdown",
   "metadata": {},
   "source": [
    "** Multiplicative trend. No damping**"
   ]
  },
  {
   "cell_type": "code",
   "execution_count": 23,
   "metadata": {},
   "outputs": [],
   "source": [
    "model_obj = hw.ExponentialSmoothing(ts_data, \n",
    "                                    trend='mul', \n",
    "                                    damped=False, \n",
    "                                    seasonal=None, \n",
    "                                    seasonal_periods=None)\n",
    "results_obj = model_obj.fit(optimized=True)"
   ]
  },
  {
   "cell_type": "code",
   "execution_count": 24,
   "metadata": {},
   "outputs": [],
   "source": [
    "pmml_file_name = 'exponential_smoothing.pmml'\n",
    "es.ExponentialSmoothingToPMML(ts_data, model_obj, results_obj, pmml_file_name);"
   ]
  },
  {
   "cell_type": "code",
   "execution_count": 25,
   "metadata": {},
   "outputs": [],
   "source": [
    "%%capture\n",
    "params_recon, model_obj_recon = reconstruct_expon_smooth(pmml_file_name);"
   ]
  },
  {
   "cell_type": "code",
   "execution_count": 26,
   "metadata": {},
   "outputs": [],
   "source": [
    "pred_val = model_obj.predict(results_obj.params)\n",
    "pred_val_recon = model_obj_recon.predict(params_recon)"
   ]
  },
  {
   "cell_type": "code",
   "execution_count": 27,
   "metadata": {},
   "outputs": [
    {
     "name": "stdout",
     "output_type": "stream",
     "text": [
      "reconstruction successful\n"
     ]
    }
   ],
   "source": [
    "if np.allclose(pred_val, pred_val_recon):\n",
    "    print('reconstruction successful')\n",
    "else:\n",
    "    print('reconstruction error')"
   ]
  },
  {
   "cell_type": "markdown",
   "metadata": {},
   "source": [
    "** Multiplicative trend with damping**"
   ]
  },
  {
   "cell_type": "code",
   "execution_count": 28,
   "metadata": {},
   "outputs": [],
   "source": [
    "model_obj = hw.ExponentialSmoothing(ts_data, \n",
    "                                    trend='mul', \n",
    "                                    damped=True, \n",
    "                                    seasonal=None, \n",
    "                                    seasonal_periods=None)\n",
    "results_obj = model_obj.fit(optimized=True)"
   ]
  },
  {
   "cell_type": "code",
   "execution_count": 29,
   "metadata": {},
   "outputs": [],
   "source": [
    "pmml_file_name = 'exponential_smoothing.pmml'\n",
    "es.ExponentialSmoothingToPMML(ts_data, model_obj, results_obj, pmml_file_name);"
   ]
  },
  {
   "cell_type": "code",
   "execution_count": 30,
   "metadata": {},
   "outputs": [],
   "source": [
    "%%capture\n",
    "params_recon, model_obj_recon = reconstruct_expon_smooth(pmml_file_name);"
   ]
  },
  {
   "cell_type": "code",
   "execution_count": 31,
   "metadata": {},
   "outputs": [],
   "source": [
    "pred_val = model_obj.predict(results_obj.params)\n",
    "pred_val_recon = model_obj_recon.predict(params_recon)"
   ]
  },
  {
   "cell_type": "code",
   "execution_count": 32,
   "metadata": {},
   "outputs": [
    {
     "name": "stdout",
     "output_type": "stream",
     "text": [
      "reconstruction successful\n"
     ]
    }
   ],
   "source": [
    "if np.allclose(pred_val, pred_val_recon):\n",
    "    print('reconstruction successful')\n",
    "else:\n",
    "    print('reconstruction error')"
   ]
  },
  {
   "cell_type": "markdown",
   "metadata": {},
   "source": [
    "# Holt - Winter Exponential Smoothing (trend and seasonality present)"
   ]
  },
  {
   "cell_type": "markdown",
   "metadata": {},
   "source": [
    "** Additive trend, additive seasonality, no damping **"
   ]
  },
  {
   "cell_type": "code",
   "execution_count": 33,
   "metadata": {},
   "outputs": [],
   "source": [
    "ts_data = import_data(trend=True, seasonality=True)"
   ]
  },
  {
   "cell_type": "code",
   "execution_count": 34,
   "metadata": {},
   "outputs": [],
   "source": [
    "model_obj = hw.ExponentialSmoothing(ts_data, \n",
    "                                    trend='add', \n",
    "                                    damped=False, \n",
    "                                    seasonal='add', \n",
    "                                    seasonal_periods=4)\n",
    "results_obj = model_obj.fit(optimized=True)"
   ]
  },
  {
   "cell_type": "code",
   "execution_count": 35,
   "metadata": {},
   "outputs": [],
   "source": [
    "pmml_file_name = 'exponential_smoothing.pmml'\n",
    "es.ExponentialSmoothingToPMML(ts_data, model_obj, results_obj, pmml_file_name);"
   ]
  },
  {
   "cell_type": "code",
   "execution_count": 36,
   "metadata": {},
   "outputs": [],
   "source": [
    "%%capture\n",
    "params_recon, model_obj_recon = reconstruct_expon_smooth(pmml_file_name);"
   ]
  },
  {
   "cell_type": "code",
   "execution_count": 37,
   "metadata": {},
   "outputs": [],
   "source": [
    "pred_val = model_obj.predict(results_obj.params)\n",
    "pred_val_recon = model_obj_recon.predict(params_recon)"
   ]
  },
  {
   "cell_type": "code",
   "execution_count": 38,
   "metadata": {},
   "outputs": [
    {
     "name": "stdout",
     "output_type": "stream",
     "text": [
      "reconstruction successful\n"
     ]
    }
   ],
   "source": [
    "if np.allclose(pred_val, pred_val_recon):\n",
    "    print('reconstruction successful')\n",
    "else:\n",
    "    print('reconstruction error')"
   ]
  },
  {
   "cell_type": "markdown",
   "metadata": {},
   "source": [
    "** Additive trend, additive seasonality, with damping **"
   ]
  },
  {
   "cell_type": "code",
   "execution_count": 39,
   "metadata": {},
   "outputs": [],
   "source": [
    "model_obj = hw.ExponentialSmoothing(ts_data, \n",
    "                                    trend='add', \n",
    "                                    damped=True, \n",
    "                                    seasonal='add', \n",
    "                                    seasonal_periods=4)\n",
    "results_obj = model_obj.fit(optimized=True)"
   ]
  },
  {
   "cell_type": "code",
   "execution_count": 40,
   "metadata": {},
   "outputs": [],
   "source": [
    "pmml_file_name = 'exponential_smoothing.pmml'\n",
    "es.ExponentialSmoothingToPMML(ts_data, model_obj, results_obj, pmml_file_name);"
   ]
  },
  {
   "cell_type": "code",
   "execution_count": 41,
   "metadata": {},
   "outputs": [],
   "source": [
    "%%capture\n",
    "params_recon, model_obj_recon = reconstruct_expon_smooth(pmml_file_name);"
   ]
  },
  {
   "cell_type": "code",
   "execution_count": 42,
   "metadata": {},
   "outputs": [],
   "source": [
    "pred_val = model_obj.predict(results_obj.params)\n",
    "pred_val_recon = model_obj_recon.predict(params_recon)"
   ]
  },
  {
   "cell_type": "code",
   "execution_count": 43,
   "metadata": {},
   "outputs": [
    {
     "name": "stdout",
     "output_type": "stream",
     "text": [
      "reconstruction successful\n"
     ]
    }
   ],
   "source": [
    "if np.allclose(pred_val, pred_val_recon):\n",
    "    print('reconstruction successful')\n",
    "else:\n",
    "    print('reconstruction error')"
   ]
  },
  {
   "cell_type": "markdown",
   "metadata": {},
   "source": [
    "** Additive trend, multiplicative seasonality, no damping **"
   ]
  },
  {
   "cell_type": "code",
   "execution_count": 45,
   "metadata": {},
   "outputs": [],
   "source": [
    "model_obj = hw.ExponentialSmoothing(ts_data, \n",
    "                                    trend='add', \n",
    "                                    damped=False, \n",
    "                                    seasonal='mul', \n",
    "                                    seasonal_periods=4)\n",
    "results_obj = model_obj.fit(optimized=True)"
   ]
  },
  {
   "cell_type": "code",
   "execution_count": 47,
   "metadata": {},
   "outputs": [],
   "source": [
    "pmml_file_name = 'exponential_smoothing.pmml'\n",
    "es.ExponentialSmoothingToPMML(ts_data, model_obj, results_obj, pmml_file_name);"
   ]
  },
  {
   "cell_type": "code",
   "execution_count": 48,
   "metadata": {},
   "outputs": [],
   "source": [
    "%%capture\n",
    "params_recon, model_obj_recon = reconstruct_expon_smooth(pmml_file_name);"
   ]
  },
  {
   "cell_type": "code",
   "execution_count": 49,
   "metadata": {},
   "outputs": [],
   "source": [
    "pred_val = model_obj.predict(results_obj.params)\n",
    "pred_val_recon = model_obj_recon.predict(params_recon)"
   ]
  },
  {
   "cell_type": "code",
   "execution_count": 50,
   "metadata": {},
   "outputs": [
    {
     "name": "stdout",
     "output_type": "stream",
     "text": [
      "reconstruction successful\n"
     ]
    }
   ],
   "source": [
    "if np.allclose(pred_val, pred_val_recon):\n",
    "    print('reconstruction successful')\n",
    "else:\n",
    "    print('reconstruction error')"
   ]
  },
  {
   "cell_type": "markdown",
   "metadata": {},
   "source": [
    "** Additive trend, multiplicative seasonality with damping **"
   ]
  },
  {
   "cell_type": "code",
   "execution_count": 52,
   "metadata": {},
   "outputs": [],
   "source": [
    "model_obj = hw.ExponentialSmoothing(ts_data, \n",
    "                                    trend='add', \n",
    "                                    damped=False, \n",
    "                                    seasonal='mul', \n",
    "                                    seasonal_periods=4)\n",
    "results_obj = model_obj.fit(optimized=True)"
   ]
  },
  {
   "cell_type": "code",
   "execution_count": 53,
   "metadata": {},
   "outputs": [],
   "source": [
    "pmml_file_name = 'exponential_smoothing.pmml'\n",
    "es.ExponentialSmoothingToPMML(ts_data, model_obj, results_obj, pmml_file_name);"
   ]
  },
  {
   "cell_type": "code",
   "execution_count": 54,
   "metadata": {},
   "outputs": [],
   "source": [
    "%%capture\n",
    "params_recon, model_obj_recon = reconstruct_expon_smooth(pmml_file_name);"
   ]
  },
  {
   "cell_type": "code",
   "execution_count": 55,
   "metadata": {},
   "outputs": [],
   "source": [
    "pred_val = model_obj.predict(results_obj.params)\n",
    "pred_val_recon = model_obj_recon.predict(params_recon)"
   ]
  },
  {
   "cell_type": "code",
   "execution_count": 56,
   "metadata": {},
   "outputs": [
    {
     "name": "stdout",
     "output_type": "stream",
     "text": [
      "reconstruction successful\n"
     ]
    }
   ],
   "source": [
    "if np.allclose(pred_val, pred_val_recon):\n",
    "    print('reconstruction successful')\n",
    "else:\n",
    "    print('reconstruction error')"
   ]
  },
  {
   "cell_type": "code",
   "execution_count": null,
   "metadata": {},
   "outputs": [],
   "source": []
  }
 ],
 "metadata": {
  "kernelspec": {
   "display_name": "Python 3",
   "language": "python",
   "name": "python3"
  },
  "language_info": {
   "codemirror_mode": {
    "name": "ipython",
    "version": 3
   },
   "file_extension": ".py",
   "mimetype": "text/x-python",
   "name": "python",
   "nbconvert_exporter": "python",
   "pygments_lexer": "ipython3",
   "version": "3.5.2"
  }
 },
 "nbformat": 4,
 "nbformat_minor": 2
}
